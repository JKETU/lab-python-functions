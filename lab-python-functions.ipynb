{
 "cells": [
  {
   "cell_type": "markdown",
   "id": "25d7736c-ba17-4aff-b6bb-66eba20fbf4e",
   "metadata": {},
   "source": [
    "# Lab | Functions"
   ]
  },
  {
   "cell_type": "markdown",
   "id": "0c581062-8967-4d93-b06e-62833222f930",
   "metadata": {
    "tags": []
   },
   "source": [
    "## Exercise: Managing Customer Orders with Functions\n",
    "\n",
    "In the previous exercise, you improved the code for managing customer orders by using loops and flow control. Now, let's take it a step further and refactor the code by introducing functions.\n",
    "\n",
    "Follow the steps below to complete the exercise:\n",
    "\n",
    "1. Define a function named `initialize_inventory` that takes `products` as a parameter. Inside the function, implement the code for initializing the inventory dictionary using a loop and user input.\n",
    "\n",
    "2. Define a function named `get_customer_orders` that takes no parameters. Inside the function, implement the code for prompting the user to enter the product names using a loop. The function should return the `customer_orders` set.\n",
    "\n",
    "3. Define a function named `update_inventory` that takes `customer_orders` and `inventory` as parameters. Inside the function, implement the code for updating the inventory dictionary based on the customer orders.\n",
    "\n",
    "4. Define a function named `calculate_order_statistics` that takes `customer_orders` and `products` as parameters. Inside the function, implement the code for calculating the order statistics (total products ordered, and percentage of unique products ordered). The function should return these values.\n",
    "\n",
    "5. Define a function named `print_order_statistics` that takes `order_statistics` as a parameter. Inside the function, implement the code for printing the order statistics.\n",
    "\n",
    "6. Define a function named `print_updated_inventory` that takes `inventory` as a parameter. Inside the function, implement the code for printing the updated inventory.\n",
    "\n",
    "7. Call the functions in the appropriate sequence to execute the program and manage customer orders.\n",
    "\n",
    "Hints for functions:\n",
    "\n",
    "- Consider the input parameters required for each function and their return values.\n",
    "- Utilize function parameters and return values to transfer data between functions.\n",
    "- Test your functions individually to ensure they work correctly.\n",
    "\n",
    "\n"
   ]
  },
  {
   "cell_type": "code",
   "execution_count": 1,
   "id": "7c3b5590-61d0-4689-8877-3c293638ec1d",
   "metadata": {},
   "outputs": [
    {
     "name": "stdin",
     "output_type": "stream",
     "text": [
      "Enter the name of a product that you want to order:  t-shirt\n",
      "Do you want to add another product (yes/no)?  yes\n",
      "Enter the name of a product that you want to order:  hat\n",
      "Do you want to add another product (yes/no)?  yes\n",
      "Enter the name of a product that you want to order:  mug\n",
      "Do you want to add another product (yes/no)?  ye\n"
     ]
    },
    {
     "name": "stdout",
     "output_type": "stream",
     "text": [
      "Total products ordered: 3\n",
      "Percentage of unique products ordered: 60.00%\n",
      "Updated Inventory:\n",
      "t-shirt: 9\n",
      "mug: 9\n",
      "hat: 9\n",
      "book: 10\n",
      "keychain: 10\n"
     ]
    }
   ],
   "source": [
    "# Function to initialize inventory\n",
    "def initialize_inventory(products):\n",
    "    inventory = {product: 10 for product in products}  # Initialize with 10 items each for simplicity\n",
    "    return inventory\n",
    "\n",
    "# Function to get customer orders\n",
    "def get_customer_orders():\n",
    "    customer_orders = set()\n",
    "    while True:\n",
    "        product_name = input(\"Enter the name of a product that you want to order: \")\n",
    "        customer_orders.add(product_name)\n",
    "        continue_order = input(\"Do you want to add another product (yes/no)? \").lower()\n",
    "        if continue_order != \"yes\":\n",
    "            break\n",
    "    return customer_orders\n",
    "\n",
    "# Function to update inventory based on customer orders\n",
    "def update_inventory(customer_orders, inventory):\n",
    "    for product in customer_orders:\n",
    "        if product in inventory:\n",
    "            if inventory[product] > 0:\n",
    "                inventory[product] -= 1\n",
    "            else:\n",
    "                print(f\"Sorry, {product} is out of stock.\")\n",
    "    return inventory\n",
    "\n",
    "# Function to calculate order statistics\n",
    "def calculate_order_statistics(customer_orders, products):\n",
    "    total_products_ordered = len(customer_orders)\n",
    "    unique_products_percentage = (len(customer_orders) / len(products)) * 100\n",
    "    return total_products_ordered, unique_products_percentage\n",
    "\n",
    "# Function to print order statistics\n",
    "def print_order_statistics(order_statistics):\n",
    "    total_products_ordered, unique_products_percentage = order_statistics\n",
    "    print(f\"Total products ordered: {total_products_ordered}\")\n",
    "    print(f\"Percentage of unique products ordered: {unique_products_percentage:.2f}%\")\n",
    "\n",
    "# Function to print updated inventory\n",
    "def print_updated_inventory(inventory):\n",
    "    print(\"Updated Inventory:\")\n",
    "    for product, quantity in inventory.items():\n",
    "        print(f\"{product}: {quantity}\")\n",
    "\n",
    "# Main function to orchestrate the script\n",
    "def main():\n",
    "    products = [\"t-shirt\", \"mug\", \"hat\", \"book\", \"keychain\"]\n",
    "    inventory = initialize_inventory(products)\n",
    "    customer_orders = get_customer_orders()\n",
    "    inventory = update_inventory(customer_orders, inventory)\n",
    "    order_statistics = calculate_order_statistics(customer_orders, products)\n",
    "    print_order_statistics(order_statistics)\n",
    "    print_updated_inventory(inventory)\n",
    "\n",
    "# Execute the program\n",
    "if __name__ == \"__main__\":\n",
    "    main()\n"
   ]
  },
  {
   "cell_type": "code",
   "execution_count": null,
   "id": "600d0329-c976-40bc-a275-d3db87a7961a",
   "metadata": {},
   "outputs": [],
   "source": []
  }
 ],
 "metadata": {
  "kernelspec": {
   "display_name": "Python 3 (ipykernel)",
   "language": "python",
   "name": "python3"
  },
  "language_info": {
   "codemirror_mode": {
    "name": "ipython",
    "version": 3
   },
   "file_extension": ".py",
   "mimetype": "text/x-python",
   "name": "python",
   "nbconvert_exporter": "python",
   "pygments_lexer": "ipython3",
   "version": "3.11.3"
  }
 },
 "nbformat": 4,
 "nbformat_minor": 5
}
